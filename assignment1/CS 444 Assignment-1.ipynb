{
 "cells": [
  {
   "attachments": {},
   "cell_type": "markdown",
   "metadata": {},
   "source": [
    "# (Optional) Colab Setup\n",
    "If you aren't using Colab, you can delete the following code cell. This is just to help students with mounting to Google Drive to access the other .py files and downloading the data, which is a little trickier on Colab than on your local machine using Jupyter. "
   ]
  },
  {
   "cell_type": "code",
   "execution_count": 4,
   "metadata": {},
   "outputs": [
    {
     "ename": "ModuleNotFoundError",
     "evalue": "No module named 'google'",
     "output_type": "error",
     "traceback": [
      "\u001b[0;31m---------------------------------------------------------------------------\u001b[0m",
      "\u001b[0;31mModuleNotFoundError\u001b[0m                       Traceback (most recent call last)",
      "Cell \u001b[0;32mIn[4], line 2\u001b[0m\n\u001b[1;32m      1\u001b[0m \u001b[38;5;66;03m# you will be prompted with a window asking to grant permissions\u001b[39;00m\n\u001b[0;32m----> 2\u001b[0m \u001b[38;5;28;01mfrom\u001b[39;00m \u001b[38;5;21;01mgoogle\u001b[39;00m\u001b[38;5;21;01m.\u001b[39;00m\u001b[38;5;21;01mcolab\u001b[39;00m \u001b[38;5;28;01mimport\u001b[39;00m drive\n\u001b[1;32m      3\u001b[0m drive\u001b[38;5;241m.\u001b[39mmount(\u001b[38;5;124m\"\u001b[39m\u001b[38;5;124m/content/drive\u001b[39m\u001b[38;5;124m\"\u001b[39m)\n",
      "\u001b[0;31mModuleNotFoundError\u001b[0m: No module named 'google'"
     ]
    }
   ],
   "source": [
    "# you will be prompted with a window asking to grant permissions\n",
    "from google.colab import drive\n",
    "drive.mount(\"/content/drive\")"
   ]
  },
  {
   "cell_type": "code",
   "execution_count": null,
   "metadata": {},
   "outputs": [],
   "source": [
    "# fill in the path in your Google Drive in the string below. Note: do not escape slashes or spaces\n",
    "import os\n",
    "datadir = \"/content/assignment1\"\n",
    "if not os.path.exists(datadir):\n",
    "  !ln -s \"/content/drive/My Drive/YOUR PATH HERE/assignment1/\" $datadir\n",
    "os.chdir(datadir)\n",
    "!pwd"
   ]
  },
  {
   "cell_type": "code",
   "execution_count": null,
   "metadata": {},
   "outputs": [],
   "source": [
    "# downloading Fashion-MNIST\n",
    "import os\n",
    "os.chdir(os.path.join(datadir,\"fashion-mnist/\"))\n",
    "!chmod +x ./get_data.sh\n",
    "!./get_data.sh\n",
    "os.chdir(datadir)"
   ]
  },
  {
   "attachments": {},
   "cell_type": "markdown",
   "metadata": {},
   "source": [
    "# Imports"
   ]
  },
  {
   "cell_type": "code",
   "execution_count": 2,
   "metadata": {},
   "outputs": [],
   "source": [
    "import random\n",
    "import numpy as np\n",
    "from data_process import get_FASHION_data, get_RICE_data\n",
    "from scipy.spatial import distance\n",
    "from models import Perceptron, SVM, Softmax, Logistic\n",
    "from kaggle_submission import output_submission_csv\n",
    "%matplotlib inline\n",
    "\n",
    "# For auto-reloading external modules\n",
    "# See http://stackoverflow.com/questions/1907993/autoreload-of-modules-in-ipython\n",
    "%load_ext autoreload\n",
    "%autoreload 2"
   ]
  },
  {
   "cell_type": "markdown",
   "metadata": {},
   "source": [
    "# Loading Fashion-MNIST"
   ]
  },
  {
   "cell_type": "markdown",
   "metadata": {},
   "source": [
    "In the following cells we determine the number of images for each split and load the images.\n",
    "<br /> \n",
    "TRAIN_IMAGES + VAL_IMAGES = (0, 60000]\n",
    ", TEST_IMAGES = 10000"
   ]
  },
  {
   "cell_type": "code",
   "execution_count": 3,
   "metadata": {},
   "outputs": [],
   "source": [
    "# You can change these numbers for experimentation\n",
    "# For submission we will use the default values \n",
    "TRAIN_IMAGES = 50000\n",
    "VAL_IMAGES = 10000\n",
    "normalize = True"
   ]
  },
  {
   "cell_type": "code",
   "execution_count": 4,
   "metadata": {},
   "outputs": [],
   "source": [
    "data = get_FASHION_data(TRAIN_IMAGES, VAL_IMAGES, normalize=normalize)\n",
    "X_train_fashion, y_train_fashion = data['X_train'], data['y_train']\n",
    "X_val_fashion, y_val_fashion = data['X_val'], data['y_val']\n",
    "X_test_fashion, y_test_fashion = data['X_test'], data['y_test']\n",
    "n_class_fashion = len(np.unique(y_test_fashion))"
   ]
  },
  {
   "attachments": {},
   "cell_type": "markdown",
   "metadata": {},
   "source": [
    "# Loading Rice"
   ]
  },
  {
   "cell_type": "code",
   "execution_count": 5,
   "metadata": {},
   "outputs": [
    {
     "name": "stdout",
     "output_type": "stream",
     "text": [
      "Number of train samples:  10911\n",
      "Number of val samples:  3637\n",
      "Number of test samples:  3637\n"
     ]
    }
   ],
   "source": [
    "# loads train / test / val splits of 80%, 20%, 20% \n",
    "data = get_RICE_data()\n",
    "X_train_RICE, y_train_RICE = data['X_train'], data['y_train']\n",
    "X_val_RICE, y_val_RICE = data['X_val'], data['y_val']\n",
    "X_test_RICE, y_test_RICE = data['X_test'], data['y_test']\n",
    "n_class_RICE = len(np.unique(y_test_RICE))\n",
    "\n",
    "print(\"Number of train samples: \", X_train_RICE.shape[0])\n",
    "print(\"Number of val samples: \", X_val_RICE.shape[0])\n",
    "print(\"Number of test samples: \", X_test_RICE.shape[0])"
   ]
  },
  {
   "cell_type": "markdown",
   "metadata": {},
   "source": [
    "### Get Accuracy"
   ]
  },
  {
   "cell_type": "markdown",
   "metadata": {},
   "source": [
    "This function computes how well your model performs using accuracy as a metric."
   ]
  },
  {
   "cell_type": "code",
   "execution_count": 6,
   "metadata": {},
   "outputs": [],
   "source": [
    "def get_acc(pred, y_test):\n",
    "    return np.sum(y_test == pred) / len(y_test) * 100"
   ]
  },
  {
   "cell_type": "markdown",
   "metadata": {},
   "source": [
    "# Perceptron"
   ]
  },
  {
   "cell_type": "markdown",
   "metadata": {},
   "source": [
    "Perceptron has 2 hyperparameters that you can experiment with:\n",
    "### Learning rate\n",
    "The learning rate controls how much we change the current weights of the classifier during each update. We set it at a default value of 0.5, but you should experiment with different values. Here is a guide to help you find a right learning rate: \n",
    "- Try values ranging from 5.0 to 0.0005 to see the impact on model accuracy. \n",
    "- If the accuracy fluctuates a lot or diverges, the learning rate is too high. Try decreasing it by a factor of 10 (e.g. from 0.5 to 0.05). \n",
    "- If the accuracy is changing very slowly, the learning rate may be too low. Try increasing it by a factor of 10.\n",
    "- You can also try adding a learning rate decay to slowly reduce the learning rate over each training epoch. For example, multiply the learning rate by 0.95 after each epoch.\n",
    "- Plot training and validation accuracy over epochs for different learning rates. This will help you visualize the impact of the learning rate.\n",
    "- [Here](https://towardsdatascience.com/https-medium-com-dashingaditya-rakhecha-understanding-learning-rate-dd5da26bb6de) is a detailed guide to learning rate.\n",
    "\n",
    "### Number of Epochs\n",
    "An epoch is a complete iterative pass over all of the data in the dataset. During an epoch we predict a label using the classifier and then update the weights of the classifier according to the perceptron update rule for each sample in the training set. You should try different values for the number of training epochs and report your results."
   ]
  },
  {
   "cell_type": "markdown",
   "metadata": {},
   "source": [
    "You will implement the Perceptron classifier in the **models/perceptron.py**\n",
    "\n",
    "The following code: \n",
    "- Creates an instance of the Perceptron classifier class \n",
    "- The train function of the Perceptron class is trained on the training data\n",
    "- We use the predict function to find the training accuracy as well as the testing accuracy\n"
   ]
  },
  {
   "cell_type": "markdown",
   "metadata": {},
   "source": [
    "## Train Perceptron on Fashion-MNIST"
   ]
  },
  {
   "cell_type": "code",
   "execution_count": 217,
   "metadata": {},
   "outputs": [
    {
     "name": "stdout",
     "output_type": "stream",
     "text": [
      "Epoch 1/20, Accuracy: 75.30%\n",
      "Epoch 2/20, Accuracy: 77.27%\n",
      "Epoch 3/20, Accuracy: 78.96%\n",
      "Epoch 4/20, Accuracy: 78.82%\n",
      "Epoch 5/20, Accuracy: 79.74%\n",
      "Epoch 6/20, Accuracy: 78.53%\n",
      "Epoch 7/20, Accuracy: 80.20%\n",
      "Epoch 8/20, Accuracy: 79.12%\n",
      "Epoch 9/20, Accuracy: 79.79%\n",
      "Epoch 10/20, Accuracy: 78.93%\n",
      "Epoch 11/20, Accuracy: 80.14%\n",
      "Epoch 12/20, Accuracy: 77.68%\n",
      "Epoch 13/20, Accuracy: 77.92%\n",
      "Epoch 14/20, Accuracy: 78.64%\n",
      "Epoch 15/20, Accuracy: 79.22%\n",
      "Epoch 16/20, Accuracy: 79.33%\n",
      "Epoch 17/20, Accuracy: 78.35%\n",
      "Epoch 18/20, Accuracy: 80.47%\n",
      "Epoch 19/20, Accuracy: 79.15%\n",
      "Epoch 20/20, Accuracy: 80.62%\n"
     ]
    }
   ],
   "source": [
    "lr = 0.05\n",
    "n_epochs = 20\n",
    "\n",
    "percept_fashion = Perceptron(n_class_fashion, lr, n_epochs)\n",
    "percept_fashion.train(X_train_fashion, y_train_fashion)"
   ]
  },
  {
   "cell_type": "code",
   "execution_count": 218,
   "metadata": {},
   "outputs": [
    {
     "name": "stdout",
     "output_type": "stream",
     "text": [
      "The training accuracy is given by: 80.620000\n"
     ]
    }
   ],
   "source": [
    "pred_percept = percept_fashion.predict(X_train_fashion)\n",
    "print('The training accuracy is given by: %f' % (get_acc(pred_percept, y_train_fashion)))"
   ]
  },
  {
   "cell_type": "markdown",
   "metadata": {},
   "source": [
    "### Validate Perceptron on Fashion-MNIST"
   ]
  },
  {
   "cell_type": "code",
   "execution_count": 219,
   "metadata": {},
   "outputs": [
    {
     "name": "stdout",
     "output_type": "stream",
     "text": [
      "The validation accuracy is given by: 78.390000\n"
     ]
    }
   ],
   "source": [
    "pred_percept = percept_fashion.predict(X_val_fashion)\n",
    "print('The validation accuracy is given by: %f' % (get_acc(pred_percept, y_val_fashion)))"
   ]
  },
  {
   "cell_type": "markdown",
   "metadata": {},
   "source": [
    "### Test Perceptron on Fashion-MNIST"
   ]
  },
  {
   "cell_type": "code",
   "execution_count": 220,
   "metadata": {},
   "outputs": [
    {
     "name": "stdout",
     "output_type": "stream",
     "text": [
      "The testing accuracy is given by: 77.430000\n"
     ]
    }
   ],
   "source": [
    "pred_percept = percept_fashion.predict(X_test_fashion)\n",
    "print('The testing accuracy is given by: %f' % (get_acc(pred_percept, y_test_fashion)))"
   ]
  },
  {
   "cell_type": "markdown",
   "metadata": {},
   "source": [
    "### Perceptron_Fashion-MNIST Kaggle Submission\n",
    "\n",
    "Once you are satisfied with your solution and test accuracy, output a file to submit your test set predictions to the Kaggle for Assignment 1 Fashion-MNIST. Use the following code to do so:"
   ]
  },
  {
   "cell_type": "code",
   "execution_count": 81,
   "metadata": {},
   "outputs": [],
   "source": [
    "output_submission_csv('kaggle/perceptron_submission_fashion.csv', percept_fashion.predict(X_test_fashion))"
   ]
  },
  {
   "attachments": {},
   "cell_type": "markdown",
   "metadata": {},
   "source": [
    "## Train Perceptron on Rice"
   ]
  },
  {
   "cell_type": "code",
   "execution_count": 223,
   "metadata": {},
   "outputs": [
    {
     "name": "stdout",
     "output_type": "stream",
     "text": [
      "Epoch 1/50, Accuracy: 69.44%\n",
      "Epoch 2/50, Accuracy: 66.58%\n",
      "Epoch 3/50, Accuracy: 72.05%\n",
      "Epoch 4/50, Accuracy: 83.71%\n",
      "Epoch 5/50, Accuracy: 66.68%\n",
      "Epoch 6/50, Accuracy: 94.39%\n",
      "Epoch 7/50, Accuracy: 97.42%\n",
      "Epoch 8/50, Accuracy: 96.64%\n",
      "Epoch 9/50, Accuracy: 97.50%\n",
      "Epoch 10/50, Accuracy: 98.76%\n",
      "Epoch 11/50, Accuracy: 98.15%\n",
      "Epoch 12/50, Accuracy: 97.00%\n",
      "Epoch 13/50, Accuracy: 99.18%\n",
      "Epoch 14/50, Accuracy: 98.49%\n",
      "Epoch 15/50, Accuracy: 98.14%\n",
      "Epoch 16/50, Accuracy: 97.10%\n",
      "Epoch 17/50, Accuracy: 99.92%\n",
      "Epoch 18/50, Accuracy: 97.67%\n",
      "Epoch 19/50, Accuracy: 97.73%\n",
      "Epoch 20/50, Accuracy: 97.62%\n",
      "Epoch 21/50, Accuracy: 97.70%\n",
      "Epoch 22/50, Accuracy: 97.16%\n",
      "Epoch 23/50, Accuracy: 98.22%\n",
      "Epoch 24/50, Accuracy: 98.26%\n",
      "Epoch 25/50, Accuracy: 97.38%\n",
      "Epoch 26/50, Accuracy: 98.96%\n",
      "Epoch 27/50, Accuracy: 99.29%\n",
      "Epoch 28/50, Accuracy: 98.41%\n",
      "Epoch 29/50, Accuracy: 98.45%\n",
      "Epoch 30/50, Accuracy: 99.16%\n",
      "Epoch 31/50, Accuracy: 99.38%\n",
      "Epoch 32/50, Accuracy: 98.67%\n",
      "Epoch 33/50, Accuracy: 99.76%\n",
      "Epoch 34/50, Accuracy: 99.61%\n",
      "Epoch 35/50, Accuracy: 99.64%\n",
      "Epoch 36/50, Accuracy: 99.29%\n",
      "Epoch 37/50, Accuracy: 99.72%\n",
      "Epoch 38/50, Accuracy: 99.51%\n",
      "Epoch 39/50, Accuracy: 99.65%\n",
      "Epoch 40/50, Accuracy: 98.42%\n",
      "Epoch 41/50, Accuracy: 99.51%\n",
      "Epoch 42/50, Accuracy: 99.48%\n",
      "Epoch 43/50, Accuracy: 98.63%\n",
      "Epoch 44/50, Accuracy: 99.51%\n",
      "Epoch 45/50, Accuracy: 99.54%\n",
      "Epoch 46/50, Accuracy: 99.51%\n",
      "Epoch 47/50, Accuracy: 99.43%\n",
      "Epoch 48/50, Accuracy: 98.55%\n",
      "Epoch 49/50, Accuracy: 99.38%\n",
      "Epoch 50/50, Accuracy: 99.51%\n"
     ]
    }
   ],
   "source": [
    "lr = 0.05\n",
    "n_epochs = 50\n",
    "\n",
    "percept_RICE = Perceptron(n_class_RICE, lr, n_epochs)\n",
    "percept_RICE.train(X_train_RICE, y_train_RICE)"
   ]
  },
  {
   "cell_type": "code",
   "execution_count": 224,
   "metadata": {},
   "outputs": [
    {
     "name": "stdout",
     "output_type": "stream",
     "text": [
      "The training accuracy is given by: 99.505087\n"
     ]
    }
   ],
   "source": [
    "pred_percept = percept_RICE.predict(X_train_RICE)\n",
    "print('The training accuracy is given by: %f' % (get_acc(pred_percept, y_train_RICE)))"
   ]
  },
  {
   "attachments": {},
   "cell_type": "markdown",
   "metadata": {},
   "source": [
    "### Validate Perceptron on Rice"
   ]
  },
  {
   "cell_type": "code",
   "execution_count": 225,
   "metadata": {},
   "outputs": [
    {
     "name": "stdout",
     "output_type": "stream",
     "text": [
      "The validation accuracy is given by: 99.532582\n"
     ]
    }
   ],
   "source": [
    "pred_percept = percept_RICE.predict(X_val_RICE)\n",
    "print('The validation accuracy is given by: %f' % (get_acc(pred_percept, y_val_RICE)))"
   ]
  },
  {
   "attachments": {},
   "cell_type": "markdown",
   "metadata": {},
   "source": [
    "### Test Perceptron on Rice"
   ]
  },
  {
   "cell_type": "code",
   "execution_count": 226,
   "metadata": {},
   "outputs": [
    {
     "name": "stdout",
     "output_type": "stream",
     "text": [
      "The testing accuracy is given by: 99.505087\n"
     ]
    }
   ],
   "source": [
    "pred_percept = percept_RICE.predict(X_test_RICE)\n",
    "print('The testing accuracy is given by: %f' % (get_acc(pred_percept, y_test_RICE)))"
   ]
  },
  {
   "cell_type": "markdown",
   "metadata": {},
   "source": [
    "# Support Vector Machines (with SGD)"
   ]
  },
  {
   "cell_type": "markdown",
   "metadata": {},
   "source": [
    "Next, you will implement a \"soft margin\" SVM. In this formulation you will maximize the margin between positive and negative training examples and penalize margin violations using a hinge loss.\n",
    "\n",
    "We will optimize the SVM loss using SGD. This means you must compute the loss function with respect to model weights. You will use this gradient to update the model weights.\n",
    "\n",
    "SVM optimized with SGD has 3 hyperparameters that you can experiment with:\n",
    "- **Learning rate** - similar to as defined above in Perceptron, this parameter scales by how much the weights are changed according to the calculated gradient update. \n",
    "- **Epochs** - similar to as defined above in Perceptron.\n",
    "- **Regularization constant** - Hyperparameter to determine the strength of regularization. In this case it is a coefficient on the term which maximizes the margin. You could try different values. The default value is set to 0.05."
   ]
  },
  {
   "cell_type": "markdown",
   "metadata": {},
   "source": [
    "You will implement the SVM using SGD in the **models/svm.py**\n",
    "\n",
    "The following code: \n",
    "- Creates an instance of the SVM classifier class \n",
    "- The train function of the SVM class is trained on the training data\n",
    "- We use the predict function to find the training accuracy as well as the testing accuracy"
   ]
  },
  {
   "cell_type": "markdown",
   "metadata": {},
   "source": [
    "## Train SVM on Fashion-MNIST"
   ]
  },
  {
   "cell_type": "code",
   "execution_count": 127,
   "metadata": {},
   "outputs": [
    {
     "name": "stdout",
     "output_type": "stream",
     "text": [
      "Training with learning rate 0.5, epoch 10, reg_const0.05...\n",
      "Start training...\n",
      "Epoch 1/10, Accuracy: 81.50%\n",
      "Epoch 2/10, Accuracy: 77.41%\n",
      "Epoch 3/10, Accuracy: 80.82%\n",
      "Epoch 4/10, Accuracy: 82.71%\n",
      "Epoch 5/10, Accuracy: 80.98%\n",
      "Epoch 6/10, Accuracy: 83.02%\n",
      "Epoch 7/10, Accuracy: 82.47%\n",
      "Epoch 8/10, Accuracy: 82.81%\n",
      "Epoch 9/10, Accuracy: 82.99%\n",
      "Epoch 10/10, Accuracy: 84.23%\n",
      "Training with learning rate 0.5, epoch 10, reg_const0.01...\n",
      "Start training...\n",
      "Epoch 1/10, Accuracy: 81.94%\n",
      "Epoch 2/10, Accuracy: 80.05%\n",
      "Epoch 3/10, Accuracy: 81.27%\n",
      "Epoch 4/10, Accuracy: 82.35%\n",
      "Epoch 5/10, Accuracy: 81.42%\n",
      "Epoch 6/10, Accuracy: 82.50%\n",
      "Epoch 7/10, Accuracy: 83.43%\n",
      "Epoch 8/10, Accuracy: 82.15%\n",
      "Epoch 9/10, Accuracy: 84.09%\n",
      "Epoch 10/10, Accuracy: 82.10%\n",
      "Training with learning rate 0.5, epoch 20, reg_const0.05...\n",
      "Start training...\n",
      "Epoch 1/20, Accuracy: 81.50%\n",
      "Epoch 2/20, Accuracy: 77.41%\n",
      "Epoch 3/20, Accuracy: 80.82%\n",
      "Epoch 4/20, Accuracy: 82.71%\n",
      "Epoch 5/20, Accuracy: 80.98%\n",
      "Epoch 6/20, Accuracy: 83.02%\n",
      "Epoch 7/20, Accuracy: 82.47%\n",
      "Epoch 8/20, Accuracy: 82.81%\n",
      "Epoch 9/20, Accuracy: 82.99%\n",
      "Epoch 10/20, Accuracy: 84.23%\n",
      "Epoch 11/20, Accuracy: 82.82%\n",
      "Epoch 12/20, Accuracy: 83.13%\n",
      "Epoch 13/20, Accuracy: 82.95%\n",
      "Epoch 14/20, Accuracy: 82.61%\n",
      "Epoch 15/20, Accuracy: 82.83%\n",
      "Epoch 16/20, Accuracy: 82.55%\n",
      "Epoch 17/20, Accuracy: 82.67%\n",
      "Epoch 18/20, Accuracy: 83.63%\n",
      "Epoch 19/20, Accuracy: 82.95%\n",
      "Epoch 20/20, Accuracy: 83.18%\n",
      "Training with learning rate 0.5, epoch 20, reg_const0.01...\n",
      "Start training...\n",
      "Epoch 1/20, Accuracy: 81.94%\n",
      "Epoch 2/20, Accuracy: 80.05%\n",
      "Epoch 3/20, Accuracy: 81.27%\n",
      "Epoch 4/20, Accuracy: 82.35%\n",
      "Epoch 5/20, Accuracy: 81.42%\n",
      "Epoch 6/20, Accuracy: 82.50%\n",
      "Epoch 7/20, Accuracy: 83.43%\n",
      "Epoch 8/20, Accuracy: 82.15%\n",
      "Epoch 9/20, Accuracy: 84.09%\n",
      "Epoch 10/20, Accuracy: 82.10%\n",
      "Epoch 11/20, Accuracy: 84.09%\n",
      "Epoch 12/20, Accuracy: 78.50%\n",
      "Epoch 13/20, Accuracy: 83.26%\n",
      "Epoch 14/20, Accuracy: 82.89%\n",
      "Epoch 15/20, Accuracy: 79.64%\n",
      "Epoch 16/20, Accuracy: 83.74%\n",
      "Epoch 17/20, Accuracy: 81.47%\n",
      "Epoch 18/20, Accuracy: 82.55%\n",
      "Epoch 19/20, Accuracy: 82.90%\n",
      "Epoch 20/20, Accuracy: 79.94%\n",
      "Training with learning rate 0.5, epoch 30, reg_const0.05...\n",
      "Start training...\n",
      "Epoch 1/30, Accuracy: 81.50%\n",
      "Epoch 2/30, Accuracy: 77.41%\n",
      "Epoch 3/30, Accuracy: 80.82%\n",
      "Epoch 4/30, Accuracy: 82.71%\n",
      "Epoch 5/30, Accuracy: 80.98%\n",
      "Epoch 6/30, Accuracy: 83.02%\n",
      "Epoch 7/30, Accuracy: 82.47%\n",
      "Epoch 8/30, Accuracy: 82.81%\n",
      "Epoch 9/30, Accuracy: 82.99%\n",
      "Epoch 10/30, Accuracy: 84.23%\n",
      "Epoch 11/30, Accuracy: 82.82%\n",
      "Epoch 12/30, Accuracy: 83.13%\n",
      "Epoch 13/30, Accuracy: 82.95%\n",
      "Epoch 14/30, Accuracy: 82.61%\n",
      "Epoch 15/30, Accuracy: 82.83%\n",
      "Epoch 16/30, Accuracy: 82.55%\n",
      "Epoch 17/30, Accuracy: 82.67%\n",
      "Epoch 18/30, Accuracy: 83.63%\n",
      "Epoch 19/30, Accuracy: 82.95%\n",
      "Epoch 20/30, Accuracy: 83.18%\n",
      "Epoch 21/30, Accuracy: 82.87%\n",
      "Epoch 22/30, Accuracy: 82.64%\n",
      "Epoch 23/30, Accuracy: 82.90%\n",
      "Epoch 24/30, Accuracy: 82.80%\n",
      "Epoch 25/30, Accuracy: 83.39%\n",
      "Epoch 26/30, Accuracy: 82.73%\n",
      "Epoch 27/30, Accuracy: 83.71%\n",
      "Epoch 28/30, Accuracy: 83.29%\n",
      "Epoch 29/30, Accuracy: 83.83%\n",
      "Epoch 30/30, Accuracy: 83.25%\n",
      "Training with learning rate 0.5, epoch 30, reg_const0.01...\n",
      "Start training...\n",
      "Epoch 1/30, Accuracy: 81.94%\n",
      "Epoch 2/30, Accuracy: 80.05%\n",
      "Epoch 3/30, Accuracy: 81.27%\n",
      "Epoch 4/30, Accuracy: 82.35%\n",
      "Epoch 5/30, Accuracy: 81.42%\n",
      "Epoch 6/30, Accuracy: 82.50%\n",
      "Epoch 7/30, Accuracy: 83.43%\n",
      "Epoch 8/30, Accuracy: 82.15%\n",
      "Epoch 9/30, Accuracy: 84.09%\n",
      "Epoch 10/30, Accuracy: 82.10%\n",
      "Epoch 11/30, Accuracy: 84.09%\n",
      "Epoch 12/30, Accuracy: 78.50%\n",
      "Epoch 13/30, Accuracy: 83.26%\n",
      "Epoch 14/30, Accuracy: 82.89%\n",
      "Epoch 15/30, Accuracy: 79.64%\n",
      "Epoch 16/30, Accuracy: 83.74%\n",
      "Epoch 17/30, Accuracy: 81.47%\n",
      "Epoch 18/30, Accuracy: 82.55%\n",
      "Epoch 19/30, Accuracy: 82.90%\n",
      "Epoch 20/30, Accuracy: 79.94%\n",
      "Epoch 21/30, Accuracy: 82.30%\n",
      "Epoch 22/30, Accuracy: 81.53%\n",
      "Epoch 23/30, Accuracy: 85.37%\n",
      "Epoch 24/30, Accuracy: 84.09%\n",
      "Epoch 25/30, Accuracy: 83.16%\n",
      "Epoch 26/30, Accuracy: 81.00%\n",
      "Epoch 27/30, Accuracy: 80.13%\n",
      "Epoch 28/30, Accuracy: 84.69%\n",
      "Epoch 29/30, Accuracy: 83.61%\n",
      "Epoch 30/30, Accuracy: 84.30%\n",
      "Training with learning rate 0.05, epoch 10, reg_const0.05...\n",
      "Start training...\n",
      "Epoch 1/10, Accuracy: 81.20%\n",
      "Epoch 2/10, Accuracy: 77.68%\n",
      "Epoch 3/10, Accuracy: 81.68%\n",
      "Epoch 4/10, Accuracy: 82.71%\n",
      "Epoch 5/10, Accuracy: 81.72%\n",
      "Epoch 6/10, Accuracy: 82.85%\n",
      "Epoch 7/10, Accuracy: 82.59%\n",
      "Epoch 8/10, Accuracy: 82.67%\n",
      "Epoch 9/10, Accuracy: 82.88%\n",
      "Epoch 10/10, Accuracy: 84.09%\n",
      "Training with learning rate 0.05, epoch 10, reg_const0.01...\n",
      "Start training...\n",
      "Epoch 1/10, Accuracy: 80.14%\n",
      "Epoch 2/10, Accuracy: 79.56%\n",
      "Epoch 3/10, Accuracy: 82.02%\n",
      "Epoch 4/10, Accuracy: 82.97%\n",
      "Epoch 5/10, Accuracy: 83.71%\n",
      "Epoch 6/10, Accuracy: 81.53%\n",
      "Epoch 7/10, Accuracy: 84.08%\n",
      "Epoch 8/10, Accuracy: 82.87%\n",
      "Epoch 9/10, Accuracy: 84.05%\n",
      "Epoch 10/10, Accuracy: 82.76%\n",
      "Training with learning rate 0.05, epoch 20, reg_const0.05...\n",
      "Start training...\n",
      "Epoch 1/20, Accuracy: 81.20%\n",
      "Epoch 2/20, Accuracy: 77.68%\n",
      "Epoch 3/20, Accuracy: 81.68%\n",
      "Epoch 4/20, Accuracy: 82.71%\n",
      "Epoch 5/20, Accuracy: 81.72%\n",
      "Epoch 6/20, Accuracy: 82.85%\n",
      "Epoch 7/20, Accuracy: 82.59%\n",
      "Epoch 8/20, Accuracy: 82.67%\n",
      "Epoch 9/20, Accuracy: 82.88%\n",
      "Epoch 10/20, Accuracy: 84.09%\n",
      "Epoch 11/20, Accuracy: 83.01%\n",
      "Epoch 12/20, Accuracy: 83.35%\n",
      "Epoch 13/20, Accuracy: 82.82%\n",
      "Epoch 14/20, Accuracy: 82.01%\n",
      "Epoch 15/20, Accuracy: 83.07%\n",
      "Epoch 16/20, Accuracy: 82.46%\n",
      "Epoch 17/20, Accuracy: 82.63%\n",
      "Epoch 18/20, Accuracy: 83.69%\n",
      "Epoch 19/20, Accuracy: 83.21%\n",
      "Epoch 20/20, Accuracy: 83.21%\n",
      "Training with learning rate 0.05, epoch 20, reg_const0.01...\n",
      "Start training...\n",
      "Epoch 1/20, Accuracy: 80.14%\n",
      "Epoch 2/20, Accuracy: 79.56%\n",
      "Epoch 3/20, Accuracy: 82.02%\n",
      "Epoch 4/20, Accuracy: 82.97%\n",
      "Epoch 5/20, Accuracy: 83.71%\n",
      "Epoch 6/20, Accuracy: 81.53%\n",
      "Epoch 7/20, Accuracy: 84.08%\n",
      "Epoch 8/20, Accuracy: 82.87%\n",
      "Epoch 9/20, Accuracy: 84.05%\n",
      "Epoch 10/20, Accuracy: 82.76%\n",
      "Epoch 11/20, Accuracy: 84.48%\n",
      "Epoch 12/20, Accuracy: 79.49%\n",
      "Epoch 13/20, Accuracy: 81.76%\n",
      "Epoch 14/20, Accuracy: 79.27%\n",
      "Epoch 15/20, Accuracy: 82.76%\n",
      "Epoch 16/20, Accuracy: 82.99%\n",
      "Epoch 17/20, Accuracy: 82.12%\n",
      "Epoch 18/20, Accuracy: 82.28%\n",
      "Epoch 19/20, Accuracy: 84.22%\n",
      "Epoch 20/20, Accuracy: 82.86%\n",
      "Training with learning rate 0.05, epoch 30, reg_const0.05...\n",
      "Start training...\n",
      "Epoch 1/30, Accuracy: 81.20%\n",
      "Epoch 2/30, Accuracy: 77.68%\n",
      "Epoch 3/30, Accuracy: 81.68%\n",
      "Epoch 4/30, Accuracy: 82.71%\n",
      "Epoch 5/30, Accuracy: 81.72%\n",
      "Epoch 6/30, Accuracy: 82.85%\n",
      "Epoch 7/30, Accuracy: 82.59%\n",
      "Epoch 8/30, Accuracy: 82.67%\n",
      "Epoch 9/30, Accuracy: 82.88%\n",
      "Epoch 10/30, Accuracy: 84.09%\n",
      "Epoch 11/30, Accuracy: 83.01%\n",
      "Epoch 12/30, Accuracy: 83.35%\n",
      "Epoch 13/30, Accuracy: 82.82%\n",
      "Epoch 14/30, Accuracy: 82.01%\n",
      "Epoch 15/30, Accuracy: 83.07%\n",
      "Epoch 16/30, Accuracy: 82.46%\n",
      "Epoch 17/30, Accuracy: 82.63%\n",
      "Epoch 18/30, Accuracy: 83.69%\n",
      "Epoch 19/30, Accuracy: 83.21%\n",
      "Epoch 20/30, Accuracy: 83.21%\n",
      "Epoch 21/30, Accuracy: 82.77%\n",
      "Epoch 22/30, Accuracy: 82.61%\n",
      "Epoch 23/30, Accuracy: 82.63%\n",
      "Epoch 24/30, Accuracy: 82.87%\n",
      "Epoch 25/30, Accuracy: 83.40%\n",
      "Epoch 26/30, Accuracy: 82.67%\n",
      "Epoch 27/30, Accuracy: 83.69%\n",
      "Epoch 28/30, Accuracy: 83.22%\n",
      "Epoch 29/30, Accuracy: 83.84%\n",
      "Epoch 30/30, Accuracy: 83.16%\n",
      "Training with learning rate 0.05, epoch 30, reg_const0.01...\n",
      "Start training...\n",
      "Epoch 1/30, Accuracy: 80.14%\n",
      "Epoch 2/30, Accuracy: 79.56%\n",
      "Epoch 3/30, Accuracy: 82.02%\n",
      "Epoch 4/30, Accuracy: 82.97%\n",
      "Epoch 5/30, Accuracy: 83.71%\n",
      "Epoch 6/30, Accuracy: 81.53%\n",
      "Epoch 7/30, Accuracy: 84.08%\n",
      "Epoch 8/30, Accuracy: 82.87%\n",
      "Epoch 9/30, Accuracy: 84.05%\n",
      "Epoch 10/30, Accuracy: 82.76%\n",
      "Epoch 11/30, Accuracy: 84.48%\n",
      "Epoch 12/30, Accuracy: 79.49%\n",
      "Epoch 13/30, Accuracy: 81.76%\n",
      "Epoch 14/30, Accuracy: 79.27%\n",
      "Epoch 15/30, Accuracy: 82.76%\n",
      "Epoch 16/30, Accuracy: 82.99%\n",
      "Epoch 17/30, Accuracy: 82.12%\n",
      "Epoch 18/30, Accuracy: 82.28%\n",
      "Epoch 19/30, Accuracy: 84.22%\n",
      "Epoch 20/30, Accuracy: 82.86%\n",
      "Epoch 21/30, Accuracy: 82.65%\n",
      "Epoch 22/30, Accuracy: 83.04%\n",
      "Epoch 23/30, Accuracy: 82.90%\n",
      "Epoch 24/30, Accuracy: 84.06%\n",
      "Epoch 25/30, Accuracy: 83.07%\n",
      "Epoch 26/30, Accuracy: 80.30%\n",
      "Epoch 27/30, Accuracy: 80.62%\n",
      "Epoch 28/30, Accuracy: 84.66%\n",
      "Epoch 29/30, Accuracy: 83.02%\n",
      "Epoch 30/30, Accuracy: 84.73%\n",
      "Training with learning rate 0.005, epoch 10, reg_const0.05...\n",
      "Start training...\n",
      "Epoch 1/10, Accuracy: 81.76%\n",
      "Epoch 2/10, Accuracy: 77.53%\n",
      "Epoch 3/10, Accuracy: 80.68%\n",
      "Epoch 4/10, Accuracy: 82.58%\n",
      "Epoch 5/10, Accuracy: 81.66%\n",
      "Epoch 6/10, Accuracy: 82.89%\n",
      "Epoch 7/10, Accuracy: 83.06%\n",
      "Epoch 8/10, Accuracy: 82.58%\n",
      "Epoch 9/10, Accuracy: 82.84%\n",
      "Epoch 10/10, Accuracy: 84.03%\n",
      "Training with learning rate 0.005, epoch 10, reg_const0.01...\n",
      "Start training...\n",
      "Epoch 1/10, Accuracy: 80.35%\n",
      "Epoch 2/10, Accuracy: 79.59%\n",
      "Epoch 3/10, Accuracy: 82.13%\n",
      "Epoch 4/10, Accuracy: 83.71%\n",
      "Epoch 5/10, Accuracy: 83.76%\n",
      "Epoch 6/10, Accuracy: 82.62%\n",
      "Epoch 7/10, Accuracy: 84.15%\n",
      "Epoch 8/10, Accuracy: 81.80%\n",
      "Epoch 9/10, Accuracy: 83.67%\n",
      "Epoch 10/10, Accuracy: 82.45%\n",
      "Training with learning rate 0.005, epoch 20, reg_const0.05...\n",
      "Start training...\n",
      "Epoch 1/20, Accuracy: 81.76%\n",
      "Epoch 2/20, Accuracy: 77.53%\n",
      "Epoch 3/20, Accuracy: 80.68%\n",
      "Epoch 4/20, Accuracy: 82.58%\n",
      "Epoch 5/20, Accuracy: 81.66%\n",
      "Epoch 6/20, Accuracy: 82.89%\n",
      "Epoch 7/20, Accuracy: 83.06%\n",
      "Epoch 8/20, Accuracy: 82.58%\n",
      "Epoch 9/20, Accuracy: 82.84%\n",
      "Epoch 10/20, Accuracy: 84.03%\n",
      "Epoch 11/20, Accuracy: 82.95%\n",
      "Epoch 12/20, Accuracy: 83.21%\n",
      "Epoch 13/20, Accuracy: 82.66%\n",
      "Epoch 14/20, Accuracy: 82.55%\n",
      "Epoch 15/20, Accuracy: 82.79%\n",
      "Epoch 16/20, Accuracy: 82.25%\n",
      "Epoch 17/20, Accuracy: 83.03%\n",
      "Epoch 18/20, Accuracy: 83.18%\n",
      "Epoch 19/20, Accuracy: 83.10%\n",
      "Epoch 20/20, Accuracy: 83.06%\n",
      "Training with learning rate 0.005, epoch 20, reg_const0.01...\n",
      "Start training...\n",
      "Epoch 1/20, Accuracy: 80.35%\n",
      "Epoch 2/20, Accuracy: 79.59%\n",
      "Epoch 3/20, Accuracy: 82.13%\n",
      "Epoch 4/20, Accuracy: 83.71%\n",
      "Epoch 5/20, Accuracy: 83.76%\n",
      "Epoch 6/20, Accuracy: 82.62%\n",
      "Epoch 7/20, Accuracy: 84.15%\n",
      "Epoch 8/20, Accuracy: 81.80%\n",
      "Epoch 9/20, Accuracy: 83.67%\n",
      "Epoch 10/20, Accuracy: 82.45%\n",
      "Epoch 11/20, Accuracy: 83.89%\n",
      "Epoch 12/20, Accuracy: 79.97%\n",
      "Epoch 13/20, Accuracy: 82.73%\n",
      "Epoch 14/20, Accuracy: 79.69%\n",
      "Epoch 15/20, Accuracy: 82.11%\n",
      "Epoch 16/20, Accuracy: 82.95%\n",
      "Epoch 17/20, Accuracy: 82.56%\n",
      "Epoch 18/20, Accuracy: 82.62%\n",
      "Epoch 19/20, Accuracy: 83.71%\n",
      "Epoch 20/20, Accuracy: 80.96%\n",
      "Training with learning rate 0.005, epoch 30, reg_const0.05...\n",
      "Start training...\n",
      "Epoch 1/30, Accuracy: 81.76%\n",
      "Epoch 2/30, Accuracy: 77.53%\n",
      "Epoch 3/30, Accuracy: 80.68%\n",
      "Epoch 4/30, Accuracy: 82.58%\n",
      "Epoch 5/30, Accuracy: 81.66%\n",
      "Epoch 6/30, Accuracy: 82.89%\n",
      "Epoch 7/30, Accuracy: 83.06%\n",
      "Epoch 8/30, Accuracy: 82.58%\n",
      "Epoch 9/30, Accuracy: 82.84%\n",
      "Epoch 10/30, Accuracy: 84.03%\n",
      "Epoch 11/30, Accuracy: 82.95%\n",
      "Epoch 12/30, Accuracy: 83.21%\n",
      "Epoch 13/30, Accuracy: 82.66%\n",
      "Epoch 14/30, Accuracy: 82.55%\n",
      "Epoch 15/30, Accuracy: 82.79%\n",
      "Epoch 16/30, Accuracy: 82.25%\n",
      "Epoch 17/30, Accuracy: 83.03%\n",
      "Epoch 18/30, Accuracy: 83.18%\n",
      "Epoch 19/30, Accuracy: 83.10%\n",
      "Epoch 20/30, Accuracy: 83.06%\n",
      "Epoch 21/30, Accuracy: 83.02%\n",
      "Epoch 22/30, Accuracy: 82.71%\n",
      "Epoch 23/30, Accuracy: 82.99%\n",
      "Epoch 24/30, Accuracy: 83.09%\n",
      "Epoch 25/30, Accuracy: 83.45%\n",
      "Epoch 26/30, Accuracy: 82.74%\n",
      "Epoch 27/30, Accuracy: 83.65%\n",
      "Epoch 28/30, Accuracy: 83.10%\n",
      "Epoch 29/30, Accuracy: 83.80%\n",
      "Epoch 30/30, Accuracy: 83.28%\n",
      "Training with learning rate 0.005, epoch 30, reg_const0.01...\n",
      "Start training...\n",
      "Epoch 1/30, Accuracy: 80.35%\n",
      "Epoch 2/30, Accuracy: 79.59%\n",
      "Epoch 3/30, Accuracy: 82.13%\n",
      "Epoch 4/30, Accuracy: 83.71%\n",
      "Epoch 5/30, Accuracy: 83.76%\n",
      "Epoch 6/30, Accuracy: 82.62%\n",
      "Epoch 7/30, Accuracy: 84.15%\n",
      "Epoch 8/30, Accuracy: 81.80%\n",
      "Epoch 9/30, Accuracy: 83.67%\n",
      "Epoch 10/30, Accuracy: 82.45%\n",
      "Epoch 11/30, Accuracy: 83.89%\n",
      "Epoch 12/30, Accuracy: 79.97%\n",
      "Epoch 13/30, Accuracy: 82.73%\n",
      "Epoch 14/30, Accuracy: 79.69%\n",
      "Epoch 15/30, Accuracy: 82.11%\n",
      "Epoch 16/30, Accuracy: 82.95%\n",
      "Epoch 17/30, Accuracy: 82.56%\n",
      "Epoch 18/30, Accuracy: 82.62%\n",
      "Epoch 19/30, Accuracy: 83.71%\n",
      "Epoch 20/30, Accuracy: 80.96%\n",
      "Epoch 21/30, Accuracy: 83.20%\n",
      "Epoch 22/30, Accuracy: 82.66%\n",
      "Epoch 23/30, Accuracy: 84.01%\n",
      "Epoch 24/30, Accuracy: 84.20%\n",
      "Epoch 25/30, Accuracy: 82.78%\n",
      "Epoch 26/30, Accuracy: 81.88%\n",
      "Epoch 27/30, Accuracy: 80.14%\n",
      "Epoch 28/30, Accuracy: 84.38%\n",
      "Epoch 29/30, Accuracy: 83.33%\n",
      "Epoch 30/30, Accuracy: 83.54%\n",
      "Best learning rate:0.005, best epoch number:30, best reg const:[0.05, 0.01]\n"
     ]
    }
   ],
   "source": [
    "lr = [0.5, 0.05, 0.005]\n",
    "n_epochs = [10,20,30]\n",
    "reg_const =[0.05, 0.01]\n",
    "\n",
    "best_lr = 0\n",
    "best_epoch = 0\n",
    "best_reg = 0\n",
    "max_accu =0\n",
    "\n",
    "for l in lr:\n",
    "  for epoch in n_epochs:\n",
    "    for reg in reg_const:\n",
    "      print(f\"Training with learning rate {l}, epoch {epoch}, reg_const{reg}...\")\n",
    "      svm_fashion = SVM(n_class_fashion, l, epoch, reg)\n",
    "      accu = svm_fashion.train(X_train_fashion, y_train_fashion)\n",
    "      if (accu > max_accu):\n",
    "        best_lr = l\n",
    "        best_epoch = epoch\n",
    "        best_reg = reg\n",
    "print(f\"Best learning rate:{best_lr}, best epoch number:{best_epoch}, best reg const:{best_reg}\")\n",
    "\n",
    "# It turns out that they aren't the best hyper-parameters due to overfit"
   ]
  },
  {
   "cell_type": "code",
   "execution_count": 233,
   "metadata": {},
   "outputs": [
    {
     "name": "stdout",
     "output_type": "stream",
     "text": [
      "The training accuracy is given by: 84.226000\n"
     ]
    }
   ],
   "source": [
    "pred_svm = svm_fashion.predict(X_train_fashion)\n",
    "print('The training accuracy is given by: %f' % (get_acc(pred_svm, y_train_fashion)))"
   ]
  },
  {
   "cell_type": "markdown",
   "metadata": {},
   "source": [
    "### Validate SVM on Fashion-MNIST"
   ]
  },
  {
   "cell_type": "code",
   "execution_count": 234,
   "metadata": {},
   "outputs": [
    {
     "name": "stdout",
     "output_type": "stream",
     "text": [
      "The validation accuracy is given by: 83.150000\n"
     ]
    }
   ],
   "source": [
    "pred_svm = svm_fashion.predict(X_val_fashion)\n",
    "print('The validation accuracy is given by: %f' % (get_acc(pred_svm, y_val_fashion)))"
   ]
  },
  {
   "cell_type": "markdown",
   "metadata": {},
   "source": [
    "### Test SVM on Fashion-MNIST"
   ]
  },
  {
   "cell_type": "code",
   "execution_count": 235,
   "metadata": {},
   "outputs": [
    {
     "name": "stdout",
     "output_type": "stream",
     "text": [
      "The testing accuracy is given by: 82.260000\n"
     ]
    }
   ],
   "source": [
    "pred_svm = svm_fashion.predict(X_test_fashion)\n",
    "print('The testing accuracy is given by: %f' % (get_acc(pred_svm, y_test_fashion)))"
   ]
  },
  {
   "cell_type": "markdown",
   "metadata": {},
   "source": [
    "### SVM_Fashion-MNIST Kaggle Submission\n",
    "\n",
    "Once you are satisfied with your solution and test accuracy output a file to submit your test set predictions to the Kaggle for Assignment 1 Fashion-MNIST. Use the following code to do so:"
   ]
  },
  {
   "cell_type": "code",
   "execution_count": 136,
   "metadata": {},
   "outputs": [],
   "source": [
    "output_submission_csv('kaggle/svm_submission_fashion.csv', svm_fashion.predict(X_test_fashion))"
   ]
  },
  {
   "attachments": {},
   "cell_type": "markdown",
   "metadata": {},
   "source": [
    "## Train SVM on Rice"
   ]
  },
  {
   "cell_type": "code",
   "execution_count": 7,
   "metadata": {},
   "outputs": [
    {
     "name": "stdout",
     "output_type": "stream",
     "text": [
      "Start training...\n",
      "Epoch 1/100, Accuracy: 77.57%\n",
      "Epoch 2/100, Accuracy: 71.94%\n",
      "Epoch 3/100, Accuracy: 71.20%\n",
      "Epoch 4/100, Accuracy: 58.87%\n",
      "Epoch 5/100, Accuracy: 75.09%\n",
      "Epoch 6/100, Accuracy: 73.68%\n",
      "Epoch 7/100, Accuracy: 64.93%\n",
      "Epoch 8/100, Accuracy: 68.89%\n",
      "Epoch 9/100, Accuracy: 80.15%\n",
      "Epoch 10/100, Accuracy: 80.07%\n",
      "Epoch 11/100, Accuracy: 79.11%\n",
      "Epoch 12/100, Accuracy: 81.34%\n",
      "Epoch 13/100, Accuracy: 75.08%\n",
      "Epoch 14/100, Accuracy: 79.95%\n",
      "Epoch 15/100, Accuracy: 80.55%\n",
      "Epoch 16/100, Accuracy: 81.87%\n",
      "Epoch 17/100, Accuracy: 78.76%\n",
      "Epoch 18/100, Accuracy: 82.80%\n",
      "Epoch 19/100, Accuracy: 56.53%\n",
      "Epoch 20/100, Accuracy: 81.96%\n",
      "Epoch 21/100, Accuracy: 70.59%\n",
      "Epoch 22/100, Accuracy: 81.10%\n",
      "Epoch 23/100, Accuracy: 54.66%\n",
      "Epoch 24/100, Accuracy: 67.36%\n",
      "Epoch 25/100, Accuracy: 80.52%\n",
      "Epoch 26/100, Accuracy: 83.70%\n",
      "Epoch 27/100, Accuracy: 78.87%\n",
      "Epoch 28/100, Accuracy: 84.32%\n",
      "Epoch 29/100, Accuracy: 75.91%\n",
      "Epoch 30/100, Accuracy: 78.29%\n",
      "Epoch 31/100, Accuracy: 87.08%\n",
      "Epoch 32/100, Accuracy: 84.30%\n",
      "Epoch 33/100, Accuracy: 80.97%\n",
      "Epoch 34/100, Accuracy: 83.81%\n",
      "Epoch 35/100, Accuracy: 86.61%\n",
      "Epoch 36/100, Accuracy: 84.24%\n",
      "Epoch 37/100, Accuracy: 69.41%\n",
      "Epoch 38/100, Accuracy: 81.58%\n",
      "Epoch 39/100, Accuracy: 73.53%\n",
      "Epoch 40/100, Accuracy: 87.93%\n",
      "Epoch 41/100, Accuracy: 85.27%\n",
      "Epoch 42/100, Accuracy: 85.88%\n",
      "Epoch 43/100, Accuracy: 83.19%\n",
      "Epoch 44/100, Accuracy: 87.37%\n",
      "Epoch 45/100, Accuracy: 81.02%\n",
      "Epoch 46/100, Accuracy: 82.68%\n",
      "Epoch 47/100, Accuracy: 60.62%\n",
      "Epoch 48/100, Accuracy: 89.96%\n",
      "Epoch 49/100, Accuracy: 56.53%\n",
      "Epoch 50/100, Accuracy: 89.59%\n",
      "Epoch 51/100, Accuracy: 77.50%\n",
      "Epoch 52/100, Accuracy: 86.94%\n",
      "Epoch 53/100, Accuracy: 87.80%\n",
      "Epoch 54/100, Accuracy: 72.92%\n",
      "Epoch 55/100, Accuracy: 87.27%\n",
      "Epoch 56/100, Accuracy: 86.84%\n",
      "Epoch 57/100, Accuracy: 90.84%\n",
      "Epoch 58/100, Accuracy: 88.78%\n",
      "Epoch 59/100, Accuracy: 89.96%\n",
      "Epoch 60/100, Accuracy: 88.33%\n",
      "Epoch 61/100, Accuracy: 83.67%\n",
      "Epoch 62/100, Accuracy: 83.03%\n",
      "Epoch 63/100, Accuracy: 90.97%\n",
      "Epoch 64/100, Accuracy: 91.14%\n",
      "Epoch 65/100, Accuracy: 88.00%\n",
      "Epoch 66/100, Accuracy: 85.15%\n",
      "Epoch 67/100, Accuracy: 93.24%\n",
      "Epoch 68/100, Accuracy: 91.31%\n",
      "Epoch 69/100, Accuracy: 77.67%\n",
      "Epoch 70/100, Accuracy: 51.97%\n",
      "Epoch 71/100, Accuracy: 91.42%\n",
      "Epoch 72/100, Accuracy: 86.85%\n",
      "Epoch 73/100, Accuracy: 89.42%\n",
      "Epoch 74/100, Accuracy: 84.63%\n",
      "Epoch 75/100, Accuracy: 87.08%\n",
      "Epoch 76/100, Accuracy: 93.70%\n",
      "Epoch 77/100, Accuracy: 92.79%\n",
      "Epoch 78/100, Accuracy: 51.40%\n",
      "Epoch 79/100, Accuracy: 97.34%\n",
      "Epoch 80/100, Accuracy: 92.03%\n",
      "Epoch 81/100, Accuracy: 77.31%\n",
      "Epoch 82/100, Accuracy: 95.01%\n",
      "Epoch 83/100, Accuracy: 92.37%\n",
      "Epoch 84/100, Accuracy: 68.93%\n",
      "Epoch 85/100, Accuracy: 91.01%\n",
      "Epoch 86/100, Accuracy: 94.25%\n",
      "Epoch 87/100, Accuracy: 83.77%\n",
      "Epoch 88/100, Accuracy: 95.70%\n",
      "Epoch 89/100, Accuracy: 95.19%\n",
      "Epoch 90/100, Accuracy: 95.28%\n",
      "Epoch 91/100, Accuracy: 95.23%\n",
      "Epoch 92/100, Accuracy: 95.89%\n",
      "Epoch 93/100, Accuracy: 91.76%\n",
      "Epoch 94/100, Accuracy: 95.94%\n",
      "Epoch 95/100, Accuracy: 95.19%\n",
      "Epoch 96/100, Accuracy: 96.16%\n",
      "Epoch 97/100, Accuracy: 94.20%\n",
      "Epoch 98/100, Accuracy: 97.48%\n",
      "Epoch 99/100, Accuracy: 96.59%\n",
      "Epoch 100/100, Accuracy: 93.13%\n"
     ]
    },
    {
     "data": {
      "text/plain": [
       "82.77600586564016"
      ]
     },
     "execution_count": 7,
     "metadata": {},
     "output_type": "execute_result"
    }
   ],
   "source": [
    "lr = 0.05\n",
    "n_epochs = 100\n",
    "reg_const = 0.05\n",
    "\n",
    "svm_RICE = SVM(n_class_RICE, lr, n_epochs, reg_const)\n",
    "svm_RICE.train(X_train_RICE, y_train_RICE)"
   ]
  },
  {
   "cell_type": "code",
   "execution_count": 8,
   "metadata": {},
   "outputs": [
    {
     "name": "stdout",
     "output_type": "stream",
     "text": [
      "The training accuracy is given by: 93.126203\n"
     ]
    }
   ],
   "source": [
    "pred_svm = svm_RICE.predict(X_train_RICE)\n",
    "print('The training accuracy is given by: %f' % (get_acc(pred_svm, y_train_RICE)))"
   ]
  },
  {
   "attachments": {},
   "cell_type": "markdown",
   "metadata": {},
   "source": [
    "### Validate SVM on Rice"
   ]
  },
  {
   "cell_type": "code",
   "execution_count": 9,
   "metadata": {},
   "outputs": [
    {
     "name": "stdout",
     "output_type": "stream",
     "text": [
      "The validation accuracy is given by: 93.813583\n"
     ]
    }
   ],
   "source": [
    "pred_svm = svm_RICE.predict(X_val_RICE)\n",
    "print('The validation accuracy is given by: %f' % (get_acc(pred_svm, y_val_RICE)))"
   ]
  },
  {
   "attachments": {},
   "cell_type": "markdown",
   "metadata": {},
   "source": [
    "## Test SVM on Rice"
   ]
  },
  {
   "cell_type": "code",
   "execution_count": 10,
   "metadata": {},
   "outputs": [
    {
     "name": "stdout",
     "output_type": "stream",
     "text": [
      "The testing accuracy is given by: 92.823756\n"
     ]
    }
   ],
   "source": [
    "pred_svm = svm_RICE.predict(X_test_RICE)\n",
    "print('The testing accuracy is given by: %f' % (get_acc(pred_svm, y_test_RICE)))"
   ]
  },
  {
   "cell_type": "markdown",
   "metadata": {},
   "source": [
    "# Softmax Classifier (with SGD)"
   ]
  },
  {
   "cell_type": "markdown",
   "metadata": {
    "collapsed": true
   },
   "source": [
    "Next, you will train a Softmax classifier. This classifier consists of a linear function of the input data followed by a softmax function which outputs a vector of dimension C (number of classes) for each data point. Each entry of the softmax output vector corresponds to a confidence in one of the C classes, and like a probability distribution, the entries of the output vector sum to 1. We use a cross-entropy loss on this sotmax output to train the model. \n",
    "\n",
    "Check the following link as an additional resource on softmax classification: http://cs231n.github.io/linear-classify/#softmax\n",
    "\n",
    "Once again we will train the classifier with SGD. This means you need to compute the gradients of the softmax cross-entropy loss function according to the weights and update the weights using this gradient. Check the following link to help with implementing the gradient updates: https://deepnotes.io/softmax-crossentropy"
   ]
  },
  {
   "cell_type": "markdown",
   "metadata": {},
   "source": [
    "The softmax classifier has 3 hyperparameters that you can experiment with:\n",
    "- **Learning rate** - As above, this controls how much the model weights are updated with respect to their gradient.\n",
    "- **Number of Epochs** - As described for perceptron.\n",
    "- **Regularization constant** - Hyperparameter to determine the strength of regularization. In this case, we minimize the L2 norm of the model weights as regularization, so the regularization constant is a coefficient on the L2 norm in the combined cross-entropy and regularization objective."
   ]
  },
  {
   "cell_type": "markdown",
   "metadata": {},
   "source": [
    "You will implement a softmax classifier using SGD in the **models/softmax.py**\n",
    "\n",
    "The following code: \n",
    "- Creates an instance of the Softmax classifier class \n",
    "- The train function of the Softmax class is trained on the training data\n",
    "- We use the predict function to find the training accuracy as well as the testing accuracy"
   ]
  },
  {
   "cell_type": "markdown",
   "metadata": {},
   "source": [
    "## Train Softmax on Fashion-MNIST"
   ]
  },
  {
   "cell_type": "code",
   "execution_count": 179,
   "metadata": {},
   "outputs": [
    {
     "name": "stdout",
     "output_type": "stream",
     "text": [
      "Start training...\n",
      "Epoch 1/20, Accuracy: 82.04%\n",
      "Epoch 2/20, Accuracy: 80.49%\n",
      "Epoch 3/20, Accuracy: 81.51%\n",
      "Epoch 4/20, Accuracy: 77.77%\n",
      "Epoch 5/20, Accuracy: 79.66%\n",
      "Epoch 6/20, Accuracy: 84.04%\n",
      "Epoch 7/20, Accuracy: 77.72%\n",
      "Epoch 8/20, Accuracy: 81.02%\n",
      "Epoch 9/20, Accuracy: 83.59%\n",
      "Epoch 10/20, Accuracy: 83.33%\n",
      "Epoch 11/20, Accuracy: 82.45%\n",
      "Epoch 12/20, Accuracy: 78.03%\n",
      "Epoch 13/20, Accuracy: 81.65%\n",
      "Epoch 14/20, Accuracy: 77.89%\n",
      "Epoch 15/20, Accuracy: 80.75%\n",
      "Epoch 16/20, Accuracy: 82.36%\n",
      "Epoch 17/20, Accuracy: 83.59%\n",
      "Epoch 18/20, Accuracy: 82.49%\n",
      "Epoch 19/20, Accuracy: 84.32%\n",
      "Epoch 20/20, Accuracy: 83.87%\n"
     ]
    },
    {
     "data": {
      "text/plain": [
       "81.42830000000001"
      ]
     },
     "execution_count": 179,
     "metadata": {},
     "output_type": "execute_result"
    }
   ],
   "source": [
    "lr = 0.05\n",
    "n_epochs = 20\n",
    "reg_const = 0.5\n",
    "\n",
    "softmax_fashion = Softmax(n_class_fashion, lr, n_epochs, reg_const)\n",
    "softmax_fashion.train(X_train_fashion, y_train_fashion)"
   ]
  },
  {
   "cell_type": "code",
   "execution_count": 180,
   "metadata": {},
   "outputs": [
    {
     "name": "stdout",
     "output_type": "stream",
     "text": [
      "The training accuracy is given by: 83.866000\n"
     ]
    }
   ],
   "source": [
    "pred_softmax = softmax_fashion.predict(X_train_fashion)\n",
    "print('The training accuracy is given by: %f' % (get_acc(pred_softmax, y_train_fashion)))"
   ]
  },
  {
   "cell_type": "markdown",
   "metadata": {},
   "source": [
    "### Validate Softmax on Fashion-MNIST"
   ]
  },
  {
   "cell_type": "code",
   "execution_count": 181,
   "metadata": {},
   "outputs": [
    {
     "name": "stdout",
     "output_type": "stream",
     "text": [
      "The validation accuracy is given by: 81.490000\n"
     ]
    }
   ],
   "source": [
    "pred_softmax = softmax_fashion.predict(X_val_fashion)\n",
    "print('The validation accuracy is given by: %f' % (get_acc(pred_softmax, y_val_fashion)))"
   ]
  },
  {
   "cell_type": "markdown",
   "metadata": {},
   "source": [
    "### Testing Softmax on Fashion-MNIST"
   ]
  },
  {
   "cell_type": "code",
   "execution_count": 182,
   "metadata": {},
   "outputs": [
    {
     "name": "stdout",
     "output_type": "stream",
     "text": [
      "The testing accuracy is given by: 80.530000\n"
     ]
    }
   ],
   "source": [
    "pred_softmax = softmax_fashion.predict(X_test_fashion)\n",
    "print('The testing accuracy is given by: %f' % (get_acc(pred_softmax, y_test_fashion)))\n",
    "\n",
    "# lr=0.5, epoch=10, reg=0.5: 79\n",
    "# lr=0.05, epoch=20, reg=0.5: 80.53\n",
    "# lr = 0.05, epoch=30, reg=0.3: 79.06\n",
    "# lr = 0.05, epoch=30 reg=0.5: 79.06"
   ]
  },
  {
   "cell_type": "markdown",
   "metadata": {},
   "source": [
    "### Softmax_Fashion-MNIST Kaggle Submission\n",
    "\n",
    "Once you are satisfied with your solution and test accuracy output a file to submit your test set predictions to the Kaggle for Assignment 1 Fashion-MNIST. Use the following code to do so:"
   ]
  },
  {
   "cell_type": "code",
   "execution_count": 183,
   "metadata": {},
   "outputs": [],
   "source": [
    "output_submission_csv('kaggle/softmax_submission_fashion.csv', softmax_fashion.predict(X_test_fashion))"
   ]
  },
  {
   "attachments": {},
   "cell_type": "markdown",
   "metadata": {},
   "source": [
    "## Train Softmax on Rice"
   ]
  },
  {
   "cell_type": "code",
   "execution_count": 11,
   "metadata": {},
   "outputs": [
    {
     "name": "stdout",
     "output_type": "stream",
     "text": [
      "Start training...\n",
      "Epoch 1/100, Accuracy: 74.51%\n",
      "Epoch 2/100, Accuracy: 77.33%\n",
      "Epoch 3/100, Accuracy: 78.26%\n",
      "Epoch 4/100, Accuracy: 77.98%\n",
      "Epoch 5/100, Accuracy: 78.38%\n",
      "Epoch 6/100, Accuracy: 68.47%\n",
      "Epoch 7/100, Accuracy: 79.87%\n",
      "Epoch 8/100, Accuracy: 80.74%\n",
      "Epoch 9/100, Accuracy: 71.71%\n",
      "Epoch 10/100, Accuracy: 76.14%\n",
      "Epoch 11/100, Accuracy: 79.74%\n",
      "Epoch 12/100, Accuracy: 77.79%\n",
      "Epoch 13/100, Accuracy: 81.60%\n",
      "Epoch 14/100, Accuracy: 78.76%\n",
      "Epoch 15/100, Accuracy: 70.72%\n",
      "Epoch 16/100, Accuracy: 81.87%\n",
      "Epoch 17/100, Accuracy: 83.20%\n",
      "Epoch 18/100, Accuracy: 80.39%\n",
      "Epoch 19/100, Accuracy: 77.29%\n",
      "Epoch 20/100, Accuracy: 80.31%\n",
      "Epoch 21/100, Accuracy: 69.92%\n",
      "Epoch 22/100, Accuracy: 79.61%\n",
      "Epoch 23/100, Accuracy: 84.58%\n",
      "Epoch 24/100, Accuracy: 77.18%\n",
      "Epoch 25/100, Accuracy: 84.62%\n",
      "Epoch 26/100, Accuracy: 80.92%\n",
      "Epoch 27/100, Accuracy: 84.34%\n",
      "Epoch 28/100, Accuracy: 65.21%\n",
      "Epoch 29/100, Accuracy: 86.02%\n",
      "Epoch 30/100, Accuracy: 83.65%\n",
      "Epoch 31/100, Accuracy: 84.21%\n",
      "Epoch 32/100, Accuracy: 87.06%\n",
      "Epoch 33/100, Accuracy: 86.61%\n",
      "Epoch 34/100, Accuracy: 88.11%\n",
      "Epoch 35/100, Accuracy: 87.07%\n",
      "Epoch 36/100, Accuracy: 68.11%\n",
      "Epoch 37/100, Accuracy: 86.18%\n",
      "Epoch 38/100, Accuracy: 85.08%\n",
      "Epoch 39/100, Accuracy: 82.67%\n",
      "Epoch 40/100, Accuracy: 83.97%\n",
      "Epoch 41/100, Accuracy: 81.69%\n",
      "Epoch 42/100, Accuracy: 86.18%\n",
      "Epoch 43/100, Accuracy: 83.93%\n",
      "Epoch 44/100, Accuracy: 83.59%\n",
      "Epoch 45/100, Accuracy: 87.05%\n",
      "Epoch 46/100, Accuracy: 83.23%\n",
      "Epoch 47/100, Accuracy: 78.49%\n",
      "Epoch 48/100, Accuracy: 89.96%\n",
      "Epoch 49/100, Accuracy: 89.34%\n",
      "Epoch 50/100, Accuracy: 73.93%\n",
      "Epoch 51/100, Accuracy: 76.99%\n",
      "Epoch 52/100, Accuracy: 74.20%\n",
      "Epoch 53/100, Accuracy: 83.88%\n",
      "Epoch 54/100, Accuracy: 83.61%\n",
      "Epoch 55/100, Accuracy: 86.21%\n",
      "Epoch 56/100, Accuracy: 68.00%\n",
      "Epoch 57/100, Accuracy: 91.99%\n",
      "Epoch 58/100, Accuracy: 92.43%\n",
      "Epoch 59/100, Accuracy: 78.01%\n",
      "Epoch 60/100, Accuracy: 85.16%\n",
      "Epoch 61/100, Accuracy: 90.64%\n",
      "Epoch 62/100, Accuracy: 98.71%\n",
      "Epoch 63/100, Accuracy: 99.84%\n",
      "Epoch 64/100, Accuracy: 89.72%\n",
      "Epoch 65/100, Accuracy: 88.91%\n",
      "Epoch 66/100, Accuracy: 90.14%\n",
      "Epoch 67/100, Accuracy: 64.00%\n",
      "Epoch 68/100, Accuracy: 97.22%\n",
      "Epoch 69/100, Accuracy: 94.97%\n",
      "Epoch 70/100, Accuracy: 68.82%\n",
      "Epoch 71/100, Accuracy: 69.37%\n",
      "Epoch 72/100, Accuracy: 91.34%\n",
      "Epoch 73/100, Accuracy: 87.28%\n",
      "Epoch 74/100, Accuracy: 94.81%\n",
      "Epoch 75/100, Accuracy: 94.67%\n",
      "Epoch 76/100, Accuracy: 53.45%\n",
      "Epoch 77/100, Accuracy: 92.00%\n",
      "Epoch 78/100, Accuracy: 98.80%\n",
      "Epoch 79/100, Accuracy: 96.96%\n",
      "Epoch 80/100, Accuracy: 93.05%\n",
      "Epoch 81/100, Accuracy: 99.67%\n",
      "Epoch 82/100, Accuracy: 99.86%\n",
      "Epoch 83/100, Accuracy: 99.89%\n",
      "Epoch 84/100, Accuracy: 99.78%\n",
      "Epoch 85/100, Accuracy: 95.66%\n",
      "Epoch 86/100, Accuracy: 99.56%\n",
      "Epoch 87/100, Accuracy: 99.84%\n",
      "Epoch 88/100, Accuracy: 99.86%\n",
      "Epoch 89/100, Accuracy: 99.90%\n",
      "Epoch 90/100, Accuracy: 99.89%\n",
      "Epoch 91/100, Accuracy: 86.18%\n",
      "Epoch 92/100, Accuracy: 94.14%\n",
      "Epoch 93/100, Accuracy: 99.67%\n",
      "Epoch 94/100, Accuracy: 99.86%\n",
      "Epoch 95/100, Accuracy: 99.86%\n",
      "Epoch 96/100, Accuracy: 99.79%\n",
      "Epoch 97/100, Accuracy: 99.88%\n",
      "Epoch 98/100, Accuracy: 99.89%\n",
      "Epoch 99/100, Accuracy: 99.86%\n",
      "Epoch 100/100, Accuracy: 99.23%\n"
     ]
    },
    {
     "data": {
      "text/plain": [
       "85.75043534048211"
      ]
     },
     "execution_count": 11,
     "metadata": {},
     "output_type": "execute_result"
    }
   ],
   "source": [
    "lr = 0.05\n",
    "n_epochs = 100\n",
    "reg_const = 0.05\n",
    "\n",
    "softmax_RICE = Softmax(n_class_RICE, lr, n_epochs, reg_const)\n",
    "softmax_RICE.train(X_train_RICE, y_train_RICE)"
   ]
  },
  {
   "cell_type": "code",
   "execution_count": 12,
   "metadata": {},
   "outputs": [
    {
     "name": "stdout",
     "output_type": "stream",
     "text": [
      "The training accuracy is given by: 99.230135\n"
     ]
    }
   ],
   "source": [
    "pred_softmax = softmax_RICE.predict(X_train_RICE)\n",
    "print('The training accuracy is given by: %f' % (get_acc(pred_softmax, y_train_RICE)))"
   ]
  },
  {
   "attachments": {},
   "cell_type": "markdown",
   "metadata": {},
   "source": [
    "### Validate Softmax on Rice"
   ]
  },
  {
   "cell_type": "code",
   "execution_count": 13,
   "metadata": {},
   "outputs": [
    {
     "name": "stdout",
     "output_type": "stream",
     "text": [
      "The validation accuracy is given by: 99.340115\n"
     ]
    }
   ],
   "source": [
    "pred_softmax = softmax_RICE.predict(X_val_RICE)\n",
    "print('The validation accuracy is given by: %f' % (get_acc(pred_softmax, y_val_RICE)))"
   ]
  },
  {
   "attachments": {},
   "cell_type": "markdown",
   "metadata": {},
   "source": [
    "### Testing Softmax on Rice"
   ]
  },
  {
   "cell_type": "code",
   "execution_count": 14,
   "metadata": {},
   "outputs": [
    {
     "name": "stdout",
     "output_type": "stream",
     "text": [
      "The testing accuracy is given by: 99.202640\n"
     ]
    }
   ],
   "source": [
    "pred_softmax = softmax_RICE.predict(X_test_RICE)\n",
    "print('The testing accuracy is given by: %f' % (get_acc(pred_softmax, y_test_RICE)))"
   ]
  },
  {
   "cell_type": "markdown",
   "metadata": {},
   "source": [
    "# Logistic Classifier"
   ]
  },
  {
   "cell_type": "markdown",
   "metadata": {},
   "source": [
    "The Logistic Classifier has 2 hyperparameters that you can experiment with:\n",
    "- **Learning rate** - similar to as defined above in Perceptron, this parameter scales by how much the weights are changed according to the calculated gradient update. \n",
    "- **Number of Epochs** - As described for perceptron.\n",
    "- **Threshold** - The decision boundary of the classifier.\n"
   ]
  },
  {
   "cell_type": "markdown",
   "metadata": {},
   "source": [
    "You will implement the Logistic Classifier in the **models/logistic.py**\n",
    "\n",
    "The following code: \n",
    "- Creates an instance of the Logistic classifier class \n",
    "- The train function of the Logistic class is trained on the training data\n",
    "- We use the predict function to find the training accuracy as well as the testing accuracy"
   ]
  },
  {
   "cell_type": "markdown",
   "metadata": {},
   "source": [
    "### Training Logistic Classifer"
   ]
  },
  {
   "cell_type": "code",
   "execution_count": 37,
   "metadata": {},
   "outputs": [
    {
     "name": "stdout",
     "output_type": "stream",
     "text": [
      "Training with learning rate 0.5, epoch 10, threshold 0.5 ...\n",
      "Start training...\n",
      "Epoch 1/10, Accuracy: 69.36%\n",
      "Epoch 2/10, Accuracy: 69.81%\n",
      "Epoch 3/10, Accuracy: 68.40%\n",
      "Epoch 4/10, Accuracy: 92.32%\n",
      "Epoch 5/10, Accuracy: 94.03%\n",
      "Epoch 6/10, Accuracy: 93.93%\n",
      "Epoch 7/10, Accuracy: 96.25%\n",
      "Epoch 8/10, Accuracy: 97.22%\n",
      "Epoch 9/10, Accuracy: 99.39%\n",
      "Epoch 10/10, Accuracy: 99.22%\n",
      "Training with learning rate 0.5, epoch 20, threshold 0.5 ...\n",
      "Start training...\n",
      "Epoch 1/20, Accuracy: 69.36%\n",
      "Epoch 2/20, Accuracy: 69.81%\n",
      "Epoch 3/20, Accuracy: 68.40%\n",
      "Epoch 4/20, Accuracy: 92.32%\n",
      "Epoch 5/20, Accuracy: 94.03%\n",
      "Epoch 6/20, Accuracy: 93.93%\n",
      "Epoch 7/20, Accuracy: 96.25%\n",
      "Epoch 8/20, Accuracy: 97.22%\n",
      "Epoch 9/20, Accuracy: 99.39%\n",
      "Epoch 10/20, Accuracy: 99.22%\n",
      "Epoch 11/20, Accuracy: 99.33%\n",
      "Epoch 12/20, Accuracy: 99.22%\n",
      "Epoch 13/20, Accuracy: 97.35%\n",
      "Epoch 14/20, Accuracy: 98.12%\n",
      "Epoch 15/20, Accuracy: 99.78%\n",
      "Epoch 16/20, Accuracy: 97.63%\n",
      "Epoch 17/20, Accuracy: 99.37%\n",
      "Epoch 18/20, Accuracy: 98.73%\n",
      "Epoch 19/20, Accuracy: 98.24%\n",
      "Epoch 20/20, Accuracy: 98.15%\n",
      "Training with learning rate 0.5, epoch 30, threshold 0.5 ...\n",
      "Start training...\n",
      "Epoch 1/30, Accuracy: 69.36%\n",
      "Epoch 2/30, Accuracy: 69.81%\n",
      "Epoch 3/30, Accuracy: 68.40%\n",
      "Epoch 4/30, Accuracy: 92.32%\n",
      "Epoch 5/30, Accuracy: 94.03%\n",
      "Epoch 6/30, Accuracy: 93.93%\n",
      "Epoch 7/30, Accuracy: 96.25%\n",
      "Epoch 8/30, Accuracy: 97.22%\n",
      "Epoch 9/30, Accuracy: 99.39%\n",
      "Epoch 10/30, Accuracy: 99.22%\n",
      "Epoch 11/30, Accuracy: 99.33%\n",
      "Epoch 12/30, Accuracy: 99.22%\n",
      "Epoch 13/30, Accuracy: 97.35%\n",
      "Epoch 14/30, Accuracy: 98.12%\n",
      "Epoch 15/30, Accuracy: 99.78%\n",
      "Epoch 16/30, Accuracy: 97.63%\n",
      "Epoch 17/30, Accuracy: 99.37%\n",
      "Epoch 18/30, Accuracy: 98.73%\n",
      "Epoch 19/30, Accuracy: 98.24%\n",
      "Epoch 20/30, Accuracy: 98.15%\n",
      "Epoch 21/30, Accuracy: 99.55%\n",
      "Epoch 22/30, Accuracy: 98.13%\n",
      "Epoch 23/30, Accuracy: 99.62%\n",
      "Epoch 24/30, Accuracy: 97.42%\n",
      "Epoch 25/30, Accuracy: 98.31%\n",
      "Epoch 26/30, Accuracy: 97.74%\n",
      "Epoch 27/30, Accuracy: 98.38%\n",
      "Epoch 28/30, Accuracy: 99.62%\n",
      "Epoch 29/30, Accuracy: 99.35%\n",
      "Epoch 30/30, Accuracy: 98.41%\n",
      "Training with learning rate 0.05, epoch 10, threshold 0.5 ...\n",
      "Start training...\n",
      "Epoch 1/10, Accuracy: 67.75%\n",
      "Epoch 2/10, Accuracy: 66.11%\n",
      "Epoch 3/10, Accuracy: 68.68%\n",
      "Epoch 4/10, Accuracy: 69.84%\n",
      "Epoch 5/10, Accuracy: 94.33%\n",
      "Epoch 6/10, Accuracy: 95.44%\n",
      "Epoch 7/10, Accuracy: 95.39%\n",
      "Epoch 8/10, Accuracy: 98.46%\n",
      "Epoch 9/10, Accuracy: 98.17%\n",
      "Epoch 10/10, Accuracy: 99.40%\n",
      "Training with learning rate 0.05, epoch 20, threshold 0.5 ...\n",
      "Start training...\n",
      "Epoch 1/20, Accuracy: 67.75%\n",
      "Epoch 2/20, Accuracy: 66.11%\n",
      "Epoch 3/20, Accuracy: 68.68%\n",
      "Epoch 4/20, Accuracy: 69.84%\n",
      "Epoch 5/20, Accuracy: 94.33%\n",
      "Epoch 6/20, Accuracy: 95.44%\n",
      "Epoch 7/20, Accuracy: 95.39%\n",
      "Epoch 8/20, Accuracy: 98.46%\n",
      "Epoch 9/20, Accuracy: 98.17%\n",
      "Epoch 10/20, Accuracy: 99.40%\n",
      "Epoch 11/20, Accuracy: 99.73%\n",
      "Epoch 12/20, Accuracy: 98.35%\n",
      "Epoch 13/20, Accuracy: 96.77%\n",
      "Epoch 14/20, Accuracy: 98.79%\n",
      "Epoch 15/20, Accuracy: 97.75%\n",
      "Epoch 16/20, Accuracy: 97.09%\n",
      "Epoch 17/20, Accuracy: 97.25%\n",
      "Epoch 18/20, Accuracy: 99.54%\n",
      "Epoch 19/20, Accuracy: 99.13%\n",
      "Epoch 20/20, Accuracy: 97.28%\n",
      "Training with learning rate 0.05, epoch 30, threshold 0.5 ...\n",
      "Start training...\n",
      "Epoch 1/30, Accuracy: 67.75%\n",
      "Epoch 2/30, Accuracy: 66.11%\n",
      "Epoch 3/30, Accuracy: 68.68%\n",
      "Epoch 4/30, Accuracy: 69.84%\n",
      "Epoch 5/30, Accuracy: 94.33%\n",
      "Epoch 6/30, Accuracy: 95.44%\n",
      "Epoch 7/30, Accuracy: 95.39%\n",
      "Epoch 8/30, Accuracy: 98.46%\n",
      "Epoch 9/30, Accuracy: 98.17%\n",
      "Epoch 10/30, Accuracy: 99.40%\n",
      "Epoch 11/30, Accuracy: 99.73%\n",
      "Epoch 12/30, Accuracy: 98.35%\n",
      "Epoch 13/30, Accuracy: 96.77%\n",
      "Epoch 14/30, Accuracy: 98.79%\n",
      "Epoch 15/30, Accuracy: 97.75%\n",
      "Epoch 16/30, Accuracy: 97.09%\n",
      "Epoch 17/30, Accuracy: 97.25%\n",
      "Epoch 18/30, Accuracy: 99.54%\n",
      "Epoch 19/30, Accuracy: 99.13%\n",
      "Epoch 20/30, Accuracy: 97.28%\n",
      "Epoch 21/30, Accuracy: 97.12%\n",
      "Epoch 22/30, Accuracy: 99.71%\n",
      "Epoch 23/30, Accuracy: 97.19%\n",
      "Epoch 24/30, Accuracy: 97.32%\n",
      "Epoch 25/30, Accuracy: 99.49%\n",
      "Epoch 26/30, Accuracy: 99.72%\n",
      "Epoch 27/30, Accuracy: 98.99%\n",
      "Epoch 28/30, Accuracy: 99.45%\n",
      "Epoch 29/30, Accuracy: 98.60%\n",
      "Epoch 30/30, Accuracy: 98.41%\n",
      "Training with learning rate 0.005, epoch 10, threshold 0.5 ...\n",
      "Start training...\n",
      "Epoch 1/10, Accuracy: 69.83%\n",
      "Epoch 2/10, Accuracy: 77.36%\n",
      "Epoch 3/10, Accuracy: 68.44%\n",
      "Epoch 4/10, Accuracy: 84.08%\n",
      "Epoch 5/10, Accuracy: 93.49%\n",
      "Epoch 6/10, Accuracy: 97.08%\n",
      "Epoch 7/10, Accuracy: 95.69%\n",
      "Epoch 8/10, Accuracy: 96.72%\n",
      "Epoch 9/10, Accuracy: 99.18%\n",
      "Epoch 10/10, Accuracy: 99.79%\n",
      "Training with learning rate 0.005, epoch 20, threshold 0.5 ...\n",
      "Start training...\n",
      "Epoch 1/20, Accuracy: 69.83%\n",
      "Epoch 2/20, Accuracy: 77.36%\n",
      "Epoch 3/20, Accuracy: 68.44%\n",
      "Epoch 4/20, Accuracy: 84.08%\n",
      "Epoch 5/20, Accuracy: 93.49%\n",
      "Epoch 6/20, Accuracy: 97.08%\n",
      "Epoch 7/20, Accuracy: 95.69%\n",
      "Epoch 8/20, Accuracy: 96.72%\n",
      "Epoch 9/20, Accuracy: 99.18%\n",
      "Epoch 10/20, Accuracy: 99.79%\n",
      "Epoch 11/20, Accuracy: 98.23%\n",
      "Epoch 12/20, Accuracy: 98.18%\n",
      "Epoch 13/20, Accuracy: 99.83%\n",
      "Epoch 14/20, Accuracy: 97.45%\n",
      "Epoch 15/20, Accuracy: 98.13%\n",
      "Epoch 16/20, Accuracy: 99.32%\n",
      "Epoch 17/20, Accuracy: 98.93%\n",
      "Epoch 18/20, Accuracy: 97.15%\n",
      "Epoch 19/20, Accuracy: 98.01%\n",
      "Epoch 20/20, Accuracy: 98.52%\n",
      "Training with learning rate 0.005, epoch 30, threshold 0.5 ...\n",
      "Start training...\n",
      "Epoch 1/30, Accuracy: 69.83%\n",
      "Epoch 2/30, Accuracy: 77.36%\n",
      "Epoch 3/30, Accuracy: 68.44%\n",
      "Epoch 4/30, Accuracy: 84.08%\n",
      "Epoch 5/30, Accuracy: 93.49%\n",
      "Epoch 6/30, Accuracy: 97.08%\n",
      "Epoch 7/30, Accuracy: 95.69%\n",
      "Epoch 8/30, Accuracy: 96.72%\n",
      "Epoch 9/30, Accuracy: 99.18%\n",
      "Epoch 10/30, Accuracy: 99.79%\n",
      "Epoch 11/30, Accuracy: 98.23%\n",
      "Epoch 12/30, Accuracy: 98.18%\n",
      "Epoch 13/30, Accuracy: 99.83%\n",
      "Epoch 14/30, Accuracy: 97.45%\n",
      "Epoch 15/30, Accuracy: 98.13%\n",
      "Epoch 16/30, Accuracy: 99.32%\n",
      "Epoch 17/30, Accuracy: 98.93%\n",
      "Epoch 18/30, Accuracy: 97.15%\n",
      "Epoch 19/30, Accuracy: 98.01%\n",
      "Epoch 20/30, Accuracy: 98.52%\n",
      "Epoch 21/30, Accuracy: 97.51%\n",
      "Epoch 22/30, Accuracy: 97.39%\n",
      "Epoch 23/30, Accuracy: 97.70%\n",
      "Epoch 24/30, Accuracy: 97.16%\n",
      "Epoch 25/30, Accuracy: 98.18%\n",
      "Epoch 26/30, Accuracy: 98.41%\n",
      "Epoch 27/30, Accuracy: 99.60%\n",
      "Epoch 28/30, Accuracy: 99.47%\n",
      "Epoch 29/30, Accuracy: 98.35%\n",
      "Epoch 30/30, Accuracy: 99.58%\n",
      "Best learning rate:0.005, best epoch number:30, best threshold:0\n",
      "Start training...\n",
      "Epoch 1/30, Accuracy: 69.83%\n",
      "Epoch 2/30, Accuracy: 77.36%\n",
      "Epoch 3/30, Accuracy: 68.44%\n",
      "Epoch 4/30, Accuracy: 84.08%\n",
      "Epoch 5/30, Accuracy: 93.49%\n",
      "Epoch 6/30, Accuracy: 97.08%\n",
      "Epoch 7/30, Accuracy: 95.69%\n",
      "Epoch 8/30, Accuracy: 96.72%\n",
      "Epoch 9/30, Accuracy: 99.18%\n",
      "Epoch 10/30, Accuracy: 99.79%\n",
      "Epoch 11/30, Accuracy: 98.23%\n",
      "Epoch 12/30, Accuracy: 98.18%\n",
      "Epoch 13/30, Accuracy: 99.83%\n",
      "Epoch 14/30, Accuracy: 97.45%\n",
      "Epoch 15/30, Accuracy: 98.13%\n",
      "Epoch 16/30, Accuracy: 99.32%\n",
      "Epoch 17/30, Accuracy: 98.93%\n",
      "Epoch 18/30, Accuracy: 97.15%\n",
      "Epoch 19/30, Accuracy: 98.01%\n",
      "Epoch 20/30, Accuracy: 98.52%\n",
      "Epoch 21/30, Accuracy: 97.51%\n",
      "Epoch 22/30, Accuracy: 97.39%\n",
      "Epoch 23/30, Accuracy: 97.70%\n",
      "Epoch 24/30, Accuracy: 97.16%\n",
      "Epoch 25/30, Accuracy: 98.18%\n",
      "Epoch 26/30, Accuracy: 98.41%\n",
      "Epoch 27/30, Accuracy: 99.60%\n",
      "Epoch 28/30, Accuracy: 99.47%\n",
      "Epoch 29/30, Accuracy: 98.35%\n",
      "Epoch 30/30, Accuracy: 99.58%\n"
     ]
    },
    {
     "data": {
      "text/plain": [
       "94.9579934622552"
      ]
     },
     "execution_count": 37,
     "metadata": {},
     "output_type": "execute_result"
    }
   ],
   "source": [
    "learning_rate = [0.5, 0.05, 0.005]\n",
    "n_epochs = [10,20,30]\n",
    "threshold = 0.5\n",
    "\n",
    "best_lr = 0\n",
    "best_epoch = 0\n",
    "best_thre = 0\n",
    "max_accu =0\n",
    "\n",
    "for l in learning_rate:\n",
    "  for epoch in n_epochs:\n",
    "      print(f\"Training with learning rate {l}, epoch {epoch}, threshold 0.5 ...\")\n",
    "      lr= Logistic(l, epoch, threshold)\n",
    "      accu = lr.train(X_train_RICE, y_train_RICE)\n",
    "      if (accu > max_accu):\n",
    "        best_lr = l\n",
    "        best_epoch = epoch\n",
    "        accu = 0\n",
    "print(f\"Best learning rate:{best_lr}, best epoch number:{best_epoch}, best threshold:{best_thre}\")\n",
    "\n",
    "\n",
    "lr= Logistic(best_lr, best_epoch, threshold)\n",
    "lr.train(X_train_RICE, y_train_RICE)\n"
   ]
  },
  {
   "cell_type": "code",
   "execution_count": 38,
   "metadata": {},
   "outputs": [
    {
     "name": "stdout",
     "output_type": "stream",
     "text": [
      "The training accuracy is given by: 99.578407\n"
     ]
    }
   ],
   "source": [
    "pred_lr = lr.predict(X_train_RICE)\n",
    "print('The training accuracy is given by: %f' % (get_acc(pred_lr, y_train_RICE)))"
   ]
  },
  {
   "cell_type": "markdown",
   "metadata": {},
   "source": [
    "### Validate Logistic Classifer"
   ]
  },
  {
   "cell_type": "code",
   "execution_count": 39,
   "metadata": {},
   "outputs": [
    {
     "name": "stdout",
     "output_type": "stream",
     "text": [
      "The validation accuracy is given by: 99.560077\n"
     ]
    }
   ],
   "source": [
    "pred_lr = lr.predict(X_val_RICE)\n",
    "print('The validation accuracy is given by: %f' % (get_acc(pred_lr, y_val_RICE)))"
   ]
  },
  {
   "cell_type": "markdown",
   "metadata": {},
   "source": [
    "### Test Logistic Classifier"
   ]
  },
  {
   "cell_type": "code",
   "execution_count": 40,
   "metadata": {},
   "outputs": [
    {
     "name": "stdout",
     "output_type": "stream",
     "text": [
      "The testing accuracy is given by: 99.532582\n"
     ]
    }
   ],
   "source": [
    "pred_lr = lr.predict(X_test_RICE)\n",
    "print('The testing accuracy is given by: %f' % (get_acc(pred_lr, y_test_RICE)))"
   ]
  },
  {
   "cell_type": "code",
   "execution_count": null,
   "metadata": {},
   "outputs": [],
   "source": []
  }
 ],
 "metadata": {
  "kernelspec": {
   "display_name": "Python 3",
   "language": "python",
   "name": "python3"
  },
  "language_info": {
   "codemirror_mode": {
    "name": "ipython",
    "version": 3
   },
   "file_extension": ".py",
   "mimetype": "text/x-python",
   "name": "python",
   "nbconvert_exporter": "python",
   "pygments_lexer": "ipython3",
   "version": "3.8.18"
  },
  "vscode": {
   "interpreter": {
    "hash": "397704579725e15f5c7cb49fe5f0341eb7531c82d19f2c29d197e8b64ab5776b"
   }
  }
 },
 "nbformat": 4,
 "nbformat_minor": 1
}
